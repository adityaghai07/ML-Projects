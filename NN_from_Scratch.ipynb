{
 "cells": [
  {
   "cell_type": "markdown",
   "metadata": {},
   "source": [
    "Proper Neural Network From Scratch"
   ]
  },
  {
   "cell_type": "code",
   "execution_count": 1,
   "metadata": {},
   "outputs": [
    {
     "name": "stdout",
     "output_type": "stream",
     "text": [
      "WARNING:tensorflow:From C:\\Users\\hp\\AppData\\Local\\Packages\\PythonSoftwareFoundation.Python.3.11_qbz5n2kfra8p0\\LocalCache\\local-packages\\Python311\\site-packages\\keras\\src\\losses.py:2976: The name tf.losses.sparse_softmax_cross_entropy is deprecated. Please use tf.compat.v1.losses.sparse_softmax_cross_entropy instead.\n",
      "\n"
     ]
    }
   ],
   "source": [
    "import pandas as pd\n",
    "from tensorflow import keras\n",
    "import numpy as np\n",
    "import matplotlib.pyplot as plt"
   ]
  },
  {
   "cell_type": "code",
   "execution_count": 2,
   "metadata": {},
   "outputs": [
    {
     "data": {
      "text/html": [
       "<div>\n",
       "<style scoped>\n",
       "    .dataframe tbody tr th:only-of-type {\n",
       "        vertical-align: middle;\n",
       "    }\n",
       "\n",
       "    .dataframe tbody tr th {\n",
       "        vertical-align: top;\n",
       "    }\n",
       "\n",
       "    .dataframe thead th {\n",
       "        text-align: right;\n",
       "    }\n",
       "</style>\n",
       "<table border=\"1\" class=\"dataframe\">\n",
       "  <thead>\n",
       "    <tr style=\"text-align: right;\">\n",
       "      <th></th>\n",
       "      <th>age</th>\n",
       "      <th>affordibility</th>\n",
       "      <th>bought_insurance</th>\n",
       "    </tr>\n",
       "  </thead>\n",
       "  <tbody>\n",
       "    <tr>\n",
       "      <th>0</th>\n",
       "      <td>22</td>\n",
       "      <td>1</td>\n",
       "      <td>0</td>\n",
       "    </tr>\n",
       "    <tr>\n",
       "      <th>1</th>\n",
       "      <td>25</td>\n",
       "      <td>0</td>\n",
       "      <td>0</td>\n",
       "    </tr>\n",
       "    <tr>\n",
       "      <th>2</th>\n",
       "      <td>47</td>\n",
       "      <td>1</td>\n",
       "      <td>1</td>\n",
       "    </tr>\n",
       "    <tr>\n",
       "      <th>3</th>\n",
       "      <td>52</td>\n",
       "      <td>0</td>\n",
       "      <td>0</td>\n",
       "    </tr>\n",
       "    <tr>\n",
       "      <th>4</th>\n",
       "      <td>46</td>\n",
       "      <td>1</td>\n",
       "      <td>1</td>\n",
       "    </tr>\n",
       "  </tbody>\n",
       "</table>\n",
       "</div>"
      ],
      "text/plain": [
       "   age  affordibility  bought_insurance\n",
       "0   22              1                 0\n",
       "1   25              0                 0\n",
       "2   47              1                 1\n",
       "3   52              0                 0\n",
       "4   46              1                 1"
      ]
     },
     "execution_count": 2,
     "metadata": {},
     "output_type": "execute_result"
    }
   ],
   "source": [
    "df = pd.read_csv(r\"C:\\Users\\hp\\Desktop\\AIML\\insurance1.csv\")\n",
    "df.head()"
   ]
  },
  {
   "cell_type": "code",
   "execution_count": 3,
   "metadata": {},
   "outputs": [],
   "source": [
    "from sklearn.model_selection import train_test_split\n",
    "X = df.drop('bought_insurance',axis=1)\n",
    "y = df['bought_insurance']\n",
    "X_train, X_test, y_train, y_test = train_test_split(X, y, test_size=0.2)"
   ]
  },
  {
   "cell_type": "code",
   "execution_count": 4,
   "metadata": {},
   "outputs": [],
   "source": [
    "X_train_scaled = X_train.copy()\n",
    "X_train_scaled['age'] = X_train_scaled['age']/100\n",
    "\n",
    "X_test_scaled = X_test.copy()\n",
    "X_test_scaled['age'] = X_test_scaled['age']/100"
   ]
  },
  {
   "cell_type": "code",
   "execution_count": null,
   "metadata": {},
   "outputs": [],
   "source": [
    "# def prediction_function(age,affordability):\n",
    "#    weighted_sum = w1*age + w2*affordability + intercept\n",
    "#    return sigmoid(weighted_sum)"
   ]
  },
  {
   "cell_type": "code",
   "execution_count": 9,
   "metadata": {},
   "outputs": [],
   "source": [
    "def sigmoid_numpy(X):\n",
    "    return 1/(1+np.exp(-X))"
   ]
  },
  {
   "cell_type": "code",
   "execution_count": 12,
   "metadata": {},
   "outputs": [],
   "source": [
    "def log_loss(y_true,y_predicted):\n",
    "    epsilon = 1e-18\n",
    "    y_predicted_new =[max(i,epsilon) for i in y_predicted]\n",
    "    y_predicted_new =[min(i,1-epsilon) for i in y_predicted_new]\n",
    "    return -np.mean(y_true*np.log(y_predicted_new)+(1-y_true)*np.log(y_predicted_new))\n"
   ]
  },
  {
   "cell_type": "code",
   "execution_count": 5,
   "metadata": {},
   "outputs": [],
   "source": [
    "def Gradient_Descent(age,affordibility,y_true,epochs):\n",
    "    w1=w2=1\n",
    "    bias=0\n",
    "    learning_rate = 0.001\n",
    "    n = len(age)\n",
    "    for i in range(epochs):\n",
    "        weighted_sum = w1*age + w2*affordibility + bias\n",
    "        y_predicted = sigmoid_numpy(weighted_sum)\n",
    "\n",
    "        loss = log_loss(y_true,y_predicted)\n",
    "        w1 = w1 - 1/n*(learning_rate*(np.dot(np.transpose(age),(y_predicted-y_true))))\n",
    "        w2 = w2 - 1/n*(learning_rate*(np.dot(np.transpose(affordibility),(y_predicted-y_true))))\n",
    "        bias = bias - learning_rate*(np.mean(y_predicted-y_true))\n",
    "        if i%70==0:\n",
    "            print(f'Epoch:{i} w1:{w1} w2:{w2} bias:{bias} loss:{loss}')"
   ]
  },
  {
   "cell_type": "code",
   "execution_count": 20,
   "metadata": {},
   "outputs": [],
   "source": [
    "class customNN:\n",
    "    def __init__(self):\n",
    "        self.w1=1\n",
    "        self.w2=1\n",
    "        self.bias=0\n",
    "    \n",
    "    def fit(self,X,y,epochs):\n",
    "        self.w1,self.w2,self.bias=self.Gradient_Descent(X['age'],X['affordibility'],y,epochs)\n",
    "\n",
    "    def predict(self,X_test):\n",
    "        weighted_sum = self.w1*X_test['age'] + self.w2*X_test['affordibility'] + self.bias\n",
    "        return sigmoid_numpy(weighted_sum)\n",
    "        \n",
    "    def Gradient_Descent(self,age,affordibility,y_true,epochs):\n",
    "        w1=w2=1\n",
    "        bias=0\n",
    "        learning_rate = 0.001\n",
    "        n = len(age)\n",
    "        for i in range(epochs):\n",
    "            weighted_sum = w1*age + w2*affordibility + bias\n",
    "            y_predicted = sigmoid_numpy(weighted_sum)\n",
    "\n",
    "            loss = log_loss(y_true,y_predicted)\n",
    "            w1 = w1 - 1/n*(learning_rate*(np.dot(np.transpose(age),(y_predicted-y_true))))\n",
    "            w2 = w2 - 1/n*(learning_rate*(np.dot(np.transpose(affordibility),(y_predicted-y_true))))\n",
    "            bias = bias - learning_rate*(np.mean(y_predicted-y_true))\n",
    "            if i%70==0:\n",
    "                print(f'Epoch:{i} w1:{w1} w2:{w2} bias:{bias} loss:{loss}')\n",
    "        return w1,w2,bias  \n",
    "        "
   ]
  },
  {
   "cell_type": "code",
   "execution_count": 23,
   "metadata": {},
   "outputs": [
    {
     "name": "stdout",
     "output_type": "stream",
     "text": [
      "Epoch:0 w1:0.9999596802789051 w2:0.9998975524790867 bias:-0.00022564658819655776 loss:0.33259678670463033\n",
      "Epoch:70 w1:0.9971906541177934 w2:0.9928115645241145 bias:-0.01588361600147382 loss:0.3381004313311325\n",
      "Epoch:140 w1:0.9945262048588102 w2:0.9858931758929906 bias:-0.03127261295142012 loss:0.34357764049837325\n",
      "Epoch:210 w1:0.9919653576795274 w2:0.979141299719499 bias:-0.04639532511623757 loss:0.3490255178225135\n",
      "Epoch:280 w1:0.9895070891717376 w2:0.9725547423828672 bias:-0.06125455465853138 loss:0.35444126868221787\n",
      "Epoch:350 w1:0.9871503302017253 w2:0.9661322084260203 bias:-0.0758532108638326 loss:0.3598222043632726\n",
      "Epoch:420 w1:0.9848939687927777 w2:0.9598723055998061 bias:-0.09019430276072524 loss:0.3651657456214034\n",
      "Epoch:490 w1:0.9827368530164087 w2:0.9537735500030585 bias:-0.10428093175497821 loss:0.3704694256711932\n"
     ]
    }
   ],
   "source": [
    "customModel = customNN()\n",
    "customModel.fit(X_train_scaled,y_train,500)"
   ]
  },
  {
   "cell_type": "code",
   "execution_count": 24,
   "metadata": {},
   "outputs": [
    {
     "data": {
      "text/plain": [
       "14    0.790565\n",
       "4     0.785643\n",
       "27    0.785643\n",
       "13    0.544592\n",
       "24    0.792187\n",
       "0     0.743277\n",
       "dtype: float64"
      ]
     },
     "execution_count": 24,
     "metadata": {},
     "output_type": "execute_result"
    }
   ],
   "source": [
    "customModel.predict(X_test_scaled)"
   ]
  }
 ],
 "metadata": {
  "kernelspec": {
   "display_name": "Python 3",
   "language": "python",
   "name": "python3"
  },
  "language_info": {
   "codemirror_mode": {
    "name": "ipython",
    "version": 3
   },
   "file_extension": ".py",
   "mimetype": "text/x-python",
   "name": "python",
   "nbconvert_exporter": "python",
   "pygments_lexer": "ipython3",
   "version": "3.11.6"
  }
 },
 "nbformat": 4,
 "nbformat_minor": 2
}
